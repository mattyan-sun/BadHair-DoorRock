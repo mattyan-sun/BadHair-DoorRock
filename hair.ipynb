{
 "cells": [
  {
   "cell_type": "code",
   "execution_count": 8,
   "metadata": {},
   "outputs": [],
   "source": [
    "import glob\n",
    "import numpy as np\n",
    "\"\"\"\n",
    "from keras.preprocessing.image import load_img, img_to_array, array_to_img\n",
    "from keras.preprocessing.image import random_rotation, random_shift, random_zoom\n",
    "from keras.layers.convolutional import Conv2D\n",
    "from keras.layers.pooling import MaxPooling2D\n",
    "from keras.layers.core import Activation\n",
    "from keras.layers.core import Dense\n",
    "from keras.layers.core import Dropout\n",
    "from keras.layers.core import Flatten\n",
    "from keras.models import Sequential\n",
    "from keras.models import model_from_json\n",
    "from keras.callbacks import LearningRateScheduler\n",
    "from keras.callbacks import ModelCheckpoint\n",
    "from tensorflow.keras.optimizers import Adam\n",
    "from keras.utils import np_utils\n",
    "\"\"\"\n",
    "DirNames = [\"./dataset/bad_hair\", \"./dataset/good_hair\"] \n",
    "FileNames = [\"./dataset/bad_hair.npy\", \"./dataset/good_hair.npy\"]\n",
    "ClassNames = [\"bad_hair\", \"good_hair\"]\n",
    "hw = {\"height\":16, \"width\":16}        #画像サイズ　リストではなく辞書型 中かっこで囲む\n",
    "\n",
    "def TestProcess(imgname):\n",
    "    modelname_text = open(\"./keras/model.json\").read()\n",
    "    json_strings = modelname_text.split('##########')\n",
    "    textlist = json_strings[1].replace(\"[\", \"\").replace(\"]\", \"\").replace(\"\\'\", \"\").split()\n",
    "    model = model_from_json(json_strings[0])\n",
    "    model.load_weights(\"./keras/last.hdf5\")  # best.hdf5 で損失最小のパラメータを使用\n",
    "    img = load_img(imgname, target_size=(hw[\"height\"], hw[\"width\"]))    \n",
    "    TEST = img_to_array(img) / 255\n",
    "\n",
    "    pred = model.predict(np.array([TEST]), batch_size=1, verbose=0)\n",
    "    print(\">> 計算結果↓\\n\" + str(pred))\n",
    "    print(\">> この画像は「\" + textlist[np.argmax(pred)].replace(\",\", \"\") + \"」です。\")"
   ]
  },
  {
   "cell_type": "code",
   "execution_count": 9,
   "metadata": {},
   "outputs": [
    {
     "name": "stdout",
     "output_type": "stream",
     "text": [
      ">> 計算結果↓\n",
      "[[9.219777e-06 9.999908e-01]]\n",
      ">> この画像は「good_hair」です。\n"
     ]
    }
   ],
   "source": [
    "TestProcess(\"./dataset/good_hair/0.jpg\")"
   ]
  },
  {
   "cell_type": "code",
   "execution_count": null,
   "metadata": {},
   "outputs": [],
   "source": []
  }
 ],
 "metadata": {
  "kernelspec": {
   "display_name": "Python 3",
   "language": "python",
   "name": "python3"
  },
  "language_info": {
   "codemirror_mode": {
    "name": "ipython",
    "version": 3
   },
   "file_extension": ".py",
   "mimetype": "text/x-python",
   "name": "python",
   "nbconvert_exporter": "python",
   "pygments_lexer": "ipython3",
   "version": "3.7.6"
  }
 },
 "nbformat": 4,
 "nbformat_minor": 4
}
